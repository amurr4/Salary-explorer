{
 "cells": [
  {
   "cell_type": "markdown",
   "id": "22e1fd5e",
   "metadata": {},
   "source": [
    "# MLB Salary Explorer\n",
    "\n",
    "#### Author: Annika Murray\n",
    "#### Date: 01/09/2024"
   ]
  },
  {
   "cell_type": "code",
   "execution_count": 1,
   "id": "420de463",
   "metadata": {},
   "outputs": [],
   "source": [
    "import pandas as pd"
   ]
  },
  {
   "cell_type": "code",
   "execution_count": 2,
   "id": "e5c7ba17",
   "metadata": {},
   "outputs": [],
   "source": [
    "# Read the CSV file into a DataFrame\n",
    "df = pd.read_csv('mlb_salaries.csv')"
   ]
  },
  {
   "cell_type": "code",
   "execution_count": 3,
   "id": "3839954e",
   "metadata": {},
   "outputs": [
    {
     "data": {
      "text/plain": [
       "<bound method NDFrame.head of         playerid    player_name  weight  height bats throws  season league  \\\n",
       "0      aardsda01  David Aardsma     215      75    R      R    2004     NL   \n",
       "1      aardsda01  David Aardsma     215      75    R      R    2007     AL   \n",
       "2      aardsda01  David Aardsma     215      75    R      R    2008     AL   \n",
       "3      aardsda01  David Aardsma     215      75    R      R    2009     AL   \n",
       "4      aardsda01  David Aardsma     215      75    R      R    2012     AL   \n",
       "...          ...            ...     ...     ...  ...    ...     ...    ...   \n",
       "28288  zupcibo01     Bob Zupcic     220      76    R      R    1991     AL   \n",
       "28289  zupcibo01     Bob Zupcic     220      76    R      R    1992     AL   \n",
       "28290  zupcibo01     Bob Zupcic     220      76    R      R    1993     AL   \n",
       "28291  zuvelpa01   Paul Zuvella     173      72    R      R    1989     AL   \n",
       "28292   zychto01      Tony Zych     190      75    R      R    2016     AL   \n",
       "\n",
       "      teamid                  team             franchise  salary  \n",
       "0        SFN  San Francisco Giants  San Francisco Giants  300000  \n",
       "1        CHA     Chicago White Sox     Chicago White Sox  387500  \n",
       "2        BOS        Boston Red Sox        Boston Red Sox  403250  \n",
       "3        SEA      Seattle Mariners      Seattle Mariners  419000  \n",
       "4        NYA      New York Yankees      New York Yankees  500000  \n",
       "...      ...                   ...                   ...     ...  \n",
       "28288    BOS        Boston Red Sox        Boston Red Sox  100000  \n",
       "28289    BOS        Boston Red Sox        Boston Red Sox  109000  \n",
       "28290    BOS        Boston Red Sox        Boston Red Sox  222000  \n",
       "28291    CLE     Cleveland Indians     Cleveland Indians  145000  \n",
       "28292    SEA      Seattle Mariners      Seattle Mariners  511000  \n",
       "\n",
       "[28293 rows x 12 columns]>"
      ]
     },
     "execution_count": 3,
     "metadata": {},
     "output_type": "execute_result"
    }
   ],
   "source": [
    "df.head"
   ]
  },
  {
   "cell_type": "markdown",
   "id": "7f4de5ce",
   "metadata": {},
   "source": [
    "The dataset used in this research is borrowed from the kaggle dataset \"Baseball Salaries\" \n",
    "https://www.kaggle.com/datasets/ulrikthygepedersen/baseball-salaries/data\n",
    "\n",
    "This dataset is comprised of 12 columns and 28,294 samples. Player ID, player name, weight, height, bats, throws, season, league, team ID, team, franchise, and salary are the columns provided. \n",
    "\n",
    "In this project, my goal is to explore this dataset to discover some basic statistics about MLB salaries. I would also like to undercover any underlying trends on players salary and their personal demographics. \n"
   ]
  },
  {
   "cell_type": "markdown",
   "id": "2daec1b0",
   "metadata": {},
   "source": [
    "## Basic MLB Data Statistics\n",
    "\n",
    "#### What years the data ranges from:"
   ]
  },
  {
   "cell_type": "code",
   "execution_count": 4,
   "id": "0f30a65b",
   "metadata": {},
   "outputs": [
    {
     "name": "stdout",
     "output_type": "stream",
     "text": [
      "Studying MLB salaries in the years from 1985 to 2016\n"
     ]
    }
   ],
   "source": [
    "print(\"Studying MLB salaries in the years from\" , min(df['season']) , \"to\" , max(df['season']))"
   ]
  },
  {
   "cell_type": "markdown",
   "id": "8e055c4b",
   "metadata": {},
   "source": []
  },
  {
   "cell_type": "markdown",
   "id": "e77fe1e2",
   "metadata": {},
   "source": [
    "#### Maximum and Minimum Salary:"
   ]
  },
  {
   "cell_type": "code",
   "execution_count": 5,
   "id": "d4d21ac0",
   "metadata": {},
   "outputs": [
    {
     "name": "stdout",
     "output_type": "stream",
     "text": [
      "The maximum salary was 10900 and the maximum was 33000000\n"
     ]
    }
   ],
   "source": [
    "print(\"The maximum salary was\", min(df['salary']), \"and the maximum was\", max(df['salary']))"
   ]
  },
  {
   "cell_type": "markdown",
   "id": "2b4c98b9",
   "metadata": {},
   "source": [
    "#### How many players salaries were recorded?\n"
   ]
  },
  {
   "cell_type": "code",
   "execution_count": 6,
   "id": "76fa5855",
   "metadata": {},
   "outputs": [
    {
     "name": "stdout",
     "output_type": "stream",
     "text": [
      "Number of unique occurrences in the column: 5005\n"
     ]
    }
   ],
   "source": [
    "player_count = df['playerid'].nunique()\n",
    "print(\"Number of unique occurrences in the column:\", player_count)"
   ]
  },
  {
   "cell_type": "markdown",
   "id": "e88dade0",
   "metadata": {},
   "source": [
    "#### There are now 30 MLB teams in 2023. Why do we have 35? "
   ]
  },
  {
   "cell_type": "code",
   "execution_count": 7,
   "id": "fbf1a2b0",
   "metadata": {},
   "outputs": [
    {
     "name": "stdout",
     "output_type": "stream",
     "text": [
      "San Francisco Giants\n",
      "Chicago White Sox\n",
      "Boston Red Sox\n",
      "Seattle Mariners\n",
      "New York Yankees\n",
      "New York Mets\n",
      "Baltimore Orioles\n",
      "Cincinnati Reds\n",
      "Houston Astros\n",
      "Oakland Athletics\n",
      "Minnesota Twins\n",
      "Florida Marlins\n",
      "California Angels\n",
      "Milwaukee Brewers\n",
      "Atlanta Braves\n",
      "Colorado Rockies\n",
      "Philadelphia Phillies\n",
      "Tampa Bay Devil Rays\n",
      "Kansas City Royals\n",
      "San Diego Padres\n",
      "Los Angeles Angels of Anaheim\n",
      "Los Angeles Dodgers\n",
      "Arizona Diamondbacks\n",
      "Toronto Blue Jays\n",
      "St. Louis Cardinals\n",
      "Detroit Tigers\n",
      "Cleveland Indians\n",
      "Texas Rangers\n",
      "Chicago Cubs\n",
      "Montreal Expos\n",
      "Anaheim Angels\n",
      "Tampa Bay Rays\n",
      "Pittsburgh Pirates\n",
      "Miami Marlins\n",
      "Washington Nationals\n"
     ]
    }
   ],
   "source": [
    "teams = df['team'].unique()\n",
    "for t in teams:\n",
    "    print(t)"
   ]
  },
  {
   "cell_type": "markdown",
   "id": "96a7cbd2",
   "metadata": {},
   "source": [
    "Four MLB teams have undergone name changes since 1985, with one team changing names twice.\n",
    "\n",
    "California Angels -> Anaheim Angels in 1997 -> Los Angeles Angels of Anaheim in 2005\n",
    "Tampa Bay Devil Rays -> Tampa Bay Rays in 2008\n",
    "Florida Marlins -> Miami Marlins in 2012\n",
    "Montreal Expos -> Washington Nationals in 2005\n",
    "\n",
    "Lets make this change in our dataset. "
   ]
  },
  {
   "cell_type": "code",
   "execution_count": 8,
   "id": "c068d48a",
   "metadata": {},
   "outputs": [
    {
     "name": "stdout",
     "output_type": "stream",
     "text": [
      "Number of unique occurrences in the column: 30\n"
     ]
    }
   ],
   "source": [
    "team_name_mapping = {'California Angels' : 'Los Angeles Angels of Anaheim', \n",
    "                       'Anaheim Angels'  : 'Los Angeles Angels of Anaheim', \n",
    "                       'Tampa Bay Devil Rays' :'Tampa Bay Rays', \n",
    "                       'Florida Marlins' : 'Miami Marlins',\n",
    "                       'Montreal Expos' : 'Washington Nationals' }\n",
    "\n",
    "# Replace old team names with new team names in the 'team' column\n",
    "df['team'] = df['team'].replace(team_name_mapping)\n",
    "\n",
    "teams_count = df['team'].nunique()\n",
    "print(\"Number of unique occurrences in the column:\", teams_count)\n"
   ]
  },
  {
   "cell_type": "markdown",
   "id": "7b05bcf1",
   "metadata": {},
   "source": [
    "#### What players are most frequently recorded?"
   ]
  },
  {
   "cell_type": "code",
   "execution_count": 9,
   "id": "d05fd775",
   "metadata": {},
   "outputs": [
    {
     "name": "stdout",
     "output_type": "stream",
     "text": [
      "Most occurring player is Alex Gonzalez\n"
     ]
    }
   ],
   "source": [
    "most_occurring_player = df['player_name'].value_counts().idxmax()\n",
    "print(\"Most occurring player is\", most_occurring_player)\n"
   ]
  },
  {
   "cell_type": "markdown",
   "id": "55194a2d",
   "metadata": {},
   "source": [
    "## MLB Linear Regression Analysis"
   ]
  },
  {
   "cell_type": "code",
   "execution_count": 10,
   "id": "60d4de60",
   "metadata": {},
   "outputs": [],
   "source": [
    "import numpy as np\n",
    "import matplotlib.pyplot as plt\n",
    "from sklearn.preprocessing import MinMaxScaler\n",
    "import statsmodels.api as sm\n",
    "from sklearn.model_selection import train_test_split\n",
    "from sklearn.metrics import mean_squared_error\n",
    "\n",
    "np.random.seed(42)\n",
    "intercepts=[]\n",
    "coeff=[]"
   ]
  },
  {
   "cell_type": "code",
   "execution_count": 11,
   "id": "2a6e0f9e",
   "metadata": {},
   "outputs": [],
   "source": [
    "seasons = df['season'].values\n",
    "salaries = df['salary'].values"
   ]
  },
  {
   "cell_type": "code",
   "execution_count": 12,
   "metadata": {},
   "outputs": [
    {
     "data": {
      "image/png": "[encoded data removed]",
      "text/plain": [
       "<Figure size 640x480 with 1 Axes>"
      ]
     },
     "metadata": {},
     "output_type": "display_data"
    }
   ],
   "source": [
    "plt.scatter(seasons, salaries, color='black', s=3)\n",
    "plt.xlabel('Seasons')\n",
    "plt.ylabel('Salaries')\n",
    "plt.xlim(1984,2017)\n",
    "plt.ylim(0,50000000)\n",
    "plt.title('Season versus Salaries')\n",
    "plt.show()"
   ]
  },
  {
   "cell_type": "markdown",
   "id": "8d143fac",
   "metadata": {},
   "source": [
    "We observe from the linear regression that MLB salaries have exponentially increased from 1985 to 2016."
   ]
  },
  {
   "cell_type": "markdown",
   "id": "1324d0a5",
   "metadata": {},
   "source": [
    "### Linear Regression Preparation"
   ]
  },
  {
   "cell_type": "code",
   "execution_count": 13,
   "id": "9ce9e6c6",
   "metadata": {},
   "outputs": [
    {
     "data": {
      "text/plain": [
       "<bound method NDFrame.head of         playerid    player_name  weight  height  bats  throws  season league  \\\n",
       "0      aardsda01  David Aardsma     215      75   1.0       1    2004     NL   \n",
       "1      aardsda01  David Aardsma     215      75   1.0       1    2007     AL   \n",
       "2      aardsda01  David Aardsma     215      75   1.0       1    2008     AL   \n",
       "3      aardsda01  David Aardsma     215      75   1.0       1    2009     AL   \n",
       "4      aardsda01  David Aardsma     215      75   1.0       1    2012     AL   \n",
       "...          ...            ...     ...     ...   ...     ...     ...    ...   \n",
       "28288  zupcibo01     Bob Zupcic     220      76   1.0       1    1991     AL   \n",
       "28289  zupcibo01     Bob Zupcic     220      76   1.0       1    1992     AL   \n",
       "28290  zupcibo01     Bob Zupcic     220      76   1.0       1    1993     AL   \n",
       "28291  zuvelpa01   Paul Zuvella     173      72   1.0       1    1989     AL   \n",
       "28292   zychto01      Tony Zych     190      75   1.0       1    2016     AL   \n",
       "\n",
       "      teamid                  team             franchise  salary  \n",
       "0        SFN  San Francisco Giants  San Francisco Giants  300000  \n",
       "1        CHA     Chicago White Sox     Chicago White Sox  387500  \n",
       "2        BOS        Boston Red Sox        Boston Red Sox  403250  \n",
       "3        SEA      Seattle Mariners      Seattle Mariners  419000  \n",
       "4        NYA      New York Yankees      New York Yankees  500000  \n",
       "...      ...                   ...                   ...     ...  \n",
       "28288    BOS        Boston Red Sox        Boston Red Sox  100000  \n",
       "28289    BOS        Boston Red Sox        Boston Red Sox  109000  \n",
       "28290    BOS        Boston Red Sox        Boston Red Sox  222000  \n",
       "28291    CLE     Cleveland Indians     Cleveland Indians  145000  \n",
       "28292    SEA      Seattle Mariners      Seattle Mariners  511000  \n",
       "\n",
       "[28293 rows x 12 columns]>"
      ]
     },
     "execution_count": 13,
     "metadata": {},
     "output_type": "execute_result"
    }
   ],
   "source": [
    "RL_mapping = {'R' : 1,  'L'  : 0, 'B': 0.5 }\n",
    "df['bats'] = df['bats'].replace(RL_mapping)\n",
    "df['throws'] = df['throws'].replace(RL_mapping)\n",
    "df.head\n"
   ]
  },
  {
   "cell_type": "markdown",
   "id": "2612be59",
   "metadata": {},
   "source": [
    "#### Height versus salary"
   ]
  },
  {
   "cell_type": "code",
   "execution_count": 14,
   "id": "968ee970",
   "metadata": {},
   "outputs": [],
   "source": [
    "X = df['height']\n",
    "y = df['salary']\n",
    "X = np.array(X).reshape(-1,1)"
   ]
  },
  {
   "cell_type": "code",
   "execution_count": 15,
   "id": "f4400d4e",
   "metadata": {},
   "outputs": [
    {
     "name": "stdout",
     "output_type": "stream",
     "text": [
      "                            OLS Regression Results                            \n",
      "==============================================================================\n",
      "Dep. Variable:                 salary   R-squared:                       0.006\n",
      "Model:                            OLS   Adj. R-squared:                  0.006\n",
      "Method:                 Least Squares   F-statistic:                     133.3\n",
      "Date:                Tue, 09 Jan 2024   Prob (F-statistic):           9.48e-31\n",
      "Time:                        16:54:50   Log-Likelihood:            -3.7274e+05\n",
      "No. Observations:               22634   AIC:                         7.455e+05\n",
      "Df Residuals:                   22632   BIC:                         7.455e+05\n",
      "Df Model:                           1                                         \n",
      "Covariance Type:            nonrobust                                         \n",
      "==============================================================================\n",
      "                 coef    std err          t      P>|t|      [0.025      0.975]\n",
      "------------------------------------------------------------------------------\n",
      "const      -6.374e+06   7.36e+05     -8.659      0.000   -7.82e+06   -4.93e+06\n",
      "x1          1.156e+05      1e+04     11.546      0.000     9.6e+04    1.35e+05\n",
      "==============================================================================\n",
      "Omnibus:                    14543.014   Durbin-Watson:                   2.001\n",
      "Prob(Omnibus):                  0.000   Jarque-Bera (JB):           160499.190\n",
      "Skew:                           3.026   Prob(JB):                         0.00\n",
      "Kurtosis:                      14.557   Cond. No.                     2.37e+03\n",
      "==============================================================================\n",
      "\n",
      "Notes:\n",
      "[1] Standard Errors assume that the covariance matrix of the errors is correctly specified.\n",
      "[2] The condition number is large, 2.37e+03. This might indicate that there are\n",
      "strong multicollinearity or other numerical problems.\n"
     ]
    }
   ],
   "source": [
    "X_train, X_test, y_train, y_test = train_test_split(X, y, test_size=0.2, random_state=42)\n",
    "X_train = sm.add_constant(X_train)\n",
    "model = sm.OLS(y_train, X_train)\n",
    "results = model.fit()\n",
    "print(results.summary())"
   ]
  },
  {
   "cell_type": "code",
   "execution_count": 16,
   "id": "2bffdba0",
   "metadata": {},
   "outputs": [
    {
     "name": "stdout",
     "output_type": "stream",
     "text": [
      "Mean Squared Error: 11673839479025.225\n"
     ]
    }
   ],
   "source": [
    "X_test = sm.add_constant(X_test)\n",
    "y_pred = results.predict(X_test)\n",
    "MSE= mean_squared_error(y_test,y_pred)\n",
    "print(\"Mean Squared Error:\" ,  MSE)"
   ]
  },
  {
   "cell_type": "code",
   "execution_count": 17,
   "id": "aa203e3a",
   "metadata": {},
   "outputs": [
    {
     "name": "stdout",
     "output_type": "stream",
     "text": [
      "Intercept: -6374379.713189349\n",
      "Coefficients: x1    115584.901776\n",
      "dtype: float64\n"
     ]
    },
    {
     "data": {
      "image/png": "[encoded data removed]",
      "text/plain": [
       "<Figure size 640x480 with 1 Axes>"
      ]
     },
     "metadata": {},
     "output_type": "display_data"
    }
   ],
   "source": [
    "intercept = results.params[0]\n",
    "coefficients = results.params[1:]\n",
    "print(\"Intercept:\", intercept)\n",
    "print(\"Coefficients:\", coefficients)\n",
    "\n",
    "plt.scatter(X_test[:, 1], y_test, label='Actual heights', color='black',s=1)\n",
    "plt.plot(X_test[:, 1], y_pred, color='red', label='Regression line')\n",
    "plt.xlabel('Height (in)')\n",
    "plt.ylabel('Salary')\n",
    "plt.title('Height versus Salary')\n",
    "plt.legend()\n",
    "plt.show()"
   ]
  },
  {
   "cell_type": "markdown",
   "id": "5e96c72e",
   "metadata": {},
   "source": [
    "#### Weight versus salary"
   ]
  },
  {
   "cell_type": "code",
   "execution_count": 18,
   "id": "6bdc3808",
   "metadata": {},
   "outputs": [
    {
     "name": "stdout",
     "output_type": "stream",
     "text": [
      "                            OLS Regression Results                            \n",
      "==============================================================================\n",
      "Dep. Variable:                 salary   R-squared:                       0.041\n",
      "Model:                            OLS   Adj. R-squared:                  0.041\n",
      "Method:                 Least Squares   F-statistic:                     959.8\n",
      "Date:                Tue, 09 Jan 2024   Prob (F-statistic):          2.03e-206\n",
      "Time:                        16:54:50   Log-Likelihood:            -3.7234e+05\n",
      "No. Observations:               22634   AIC:                         7.447e+05\n",
      "Df Residuals:                   22632   BIC:                         7.447e+05\n",
      "Df Model:                           1                                         \n",
      "Covariance Type:            nonrobust                                         \n",
      "==============================================================================\n",
      "                 coef    std err          t      P>|t|      [0.025      0.975]\n",
      "------------------------------------------------------------------------------\n",
      "const      -3.986e+06   1.98e+05    -20.091      0.000   -4.37e+06    -3.6e+06\n",
      "x1          3.069e+04    990.480     30.980      0.000    2.87e+04    3.26e+04\n",
      "==============================================================================\n",
      "Omnibus:                    13950.912   Durbin-Watson:                   2.003\n",
      "Prob(Omnibus):                  0.000   Jarque-Bera (JB):           143334.406\n",
      "Skew:                           2.886   Prob(JB):                         0.00\n",
      "Kurtosis:                      13.894   Cond. No.                     1.77e+03\n",
      "==============================================================================\n",
      "\n",
      "Notes:\n",
      "[1] Standard Errors assume that the covariance matrix of the errors is correctly specified.\n",
      "[2] The condition number is large, 1.77e+03. This might indicate that there are\n",
      "strong multicollinearity or other numerical problems.\n"
     ]
    }
   ],
   "source": [
    "X = df['weight']\n",
    "y = df['salary']\n",
    "X = np.array(X).reshape(-1,1)\n",
    "X_train, X_test, y_train, y_test = train_test_split(X, y, test_size=0.2, random_state=42)\n",
    "X_train = sm.add_constant(X_train)\n",
    "model = sm.OLS(y_train, X_train)\n",
    "results = model.fit()\n",
    "print(results.summary())"
   ]
  },
  {
   "cell_type": "code",
   "execution_count": 19,
   "id": "9811aa3f",
   "metadata": {},
   "outputs": [
    {
     "name": "stdout",
     "output_type": "stream",
     "text": [
      "                            OLS Regression Results                            \n",
      "==============================================================================\n",
      "Dep. Variable:                 salary   R-squared:                       0.041\n",
      "Model:                            OLS   Adj. R-squared:                  0.041\n",
      "Method:                 Least Squares   F-statistic:                     959.8\n",
      "Date:                Tue, 09 Jan 2024   Prob (F-statistic):          2.03e-206\n",
      "Time:                        16:54:50   Log-Likelihood:            -3.7234e+05\n",
      "No. Observations:               22634   AIC:                         7.447e+05\n",
      "Df Residuals:                   22632   BIC:                         7.447e+05\n",
      "Df Model:                           1                                         \n",
      "Covariance Type:            nonrobust                                         \n",
      "==============================================================================\n",
      "                 coef    std err          t      P>|t|      [0.025      0.975]\n",
      "------------------------------------------------------------------------------\n",
      "const      -3.986e+06   1.98e+05    -20.091      0.000   -4.37e+06    -3.6e+06\n",
      "x1          3.069e+04    990.480     30.980      0.000    2.87e+04    3.26e+04\n",
      "==============================================================================\n",
      "Omnibus:                    13950.912   Durbin-Watson:                   2.003\n",
      "Prob(Omnibus):                  0.000   Jarque-Bera (JB):           143334.406\n",
      "Skew:                           2.886   Prob(JB):                         0.00\n",
      "Kurtosis:                      13.894   Cond. No.                     1.77e+03\n",
      "==============================================================================\n",
      "\n",
      "Notes:\n",
      "[1] Standard Errors assume that the covariance matrix of the errors is correctly specified.\n",
      "[2] The condition number is large, 1.77e+03. This might indicate that there are\n",
      "strong multicollinearity or other numerical problems.\n"
     ]
    }
   ],
   "source": [
    "X_train, X_test, y_train, y_test = train_test_split(X, y, test_size=0.2, random_state=42)\n",
    "X_train = sm.add_constant(X_train)\n",
    "model = sm.OLS(y_train, X_train)\n",
    "results = model.fit()\n",
    "print(results.summary())"
   ]
  },
  {
   "cell_type": "code",
   "execution_count": 20,
   "id": "234dece7",
   "metadata": {},
   "outputs": [
    {
     "name": "stdout",
     "output_type": "stream",
     "text": [
      "Mean Squared Error: 11303032613909.287\n"
     ]
    }
   ],
   "source": [
    "X_test = sm.add_constant(X_test)\n",
    "y_pred = results.predict(X_test)\n",
    "MSE= mean_squared_error(y_test,y_pred)\n",
    "print(\"Mean Squared Error:\" ,  MSE)"
   ]
  },
  {
   "cell_type": "code",
   "execution_count": 21,
   "id": "0991159c",
   "metadata": {},
   "outputs": [
    {
     "name": "stdout",
     "output_type": "stream",
     "text": [
      "Intercept: -3986100.593120277\n",
      "Coefficients: x1    30685.148684\n",
      "dtype: float64\n"
     ]
    },
    {
     "data": {
      "image/png": "[encoded data removed]",
      "text/plain": [
       "<Figure size 640x480 with 1 Axes>"
      ]
     },
     "metadata": {},
     "output_type": "display_data"
    }
   ],
   "source": [
    "intercept = results.params[0]\n",
    "coefficients = results.params[1:]\n",
    "print(\"Intercept:\", intercept)\n",
    "print(\"Coefficients:\", coefficients)\n",
    "\n",
    "plt.scatter(X_test[:, 1], y_test, label='Actual Weights', color='black',s=1)\n",
    "plt.plot(X_test[:, 1], y_pred, color='red', label='Regression line')\n",
    "plt.xlabel('Weight (lbs)')\n",
    "plt.ylabel('Salary')\n",
    "plt.title('Weight versus Salary')\n",
    "plt.legend()\n",
    "plt.show()"
   ]
  },
  {
   "cell_type": "markdown",
   "id": "f8529c0e",
   "metadata": {},
   "source": [
    "#### Bats versus salary"
   ]
  },
  {
   "cell_type": "code",
   "execution_count": 22,
   "id": "d1fdb465",
   "metadata": {},
   "outputs": [],
   "source": [
    "df['bats'] = df['bats'].astype(float)\n",
    "X=df['bats']\n",
    "X = np.array(X).reshape(-1,1)"
   ]
  },
  {
   "cell_type": "code",
   "execution_count": 23,
   "id": "a2d403e2",
   "metadata": {},
   "outputs": [
    {
     "name": "stdout",
     "output_type": "stream",
     "text": [
      "                            OLS Regression Results                            \n",
      "==============================================================================\n",
      "Dep. Variable:                 salary   R-squared:                       0.000\n",
      "Model:                            OLS   Adj. R-squared:                  0.000\n",
      "Method:                 Least Squares   F-statistic:                     7.005\n",
      "Date:                Tue, 09 Jan 2024   Prob (F-statistic):            0.00813\n",
      "Time:                        16:54:51   Log-Likelihood:            -3.7280e+05\n",
      "No. Observations:               22634   AIC:                         7.456e+05\n",
      "Df Residuals:                   22632   BIC:                         7.456e+05\n",
      "Df Model:                           1                                         \n",
      "Covariance Type:            nonrobust                                         \n",
      "==============================================================================\n",
      "                 coef    std err          t      P>|t|      [0.025      0.975]\n",
      "------------------------------------------------------------------------------\n",
      "const       2.212e+06   4.13e+04     53.548      0.000    2.13e+06    2.29e+06\n",
      "x1         -1.364e+05   5.15e+04     -2.647      0.008   -2.37e+05   -3.54e+04\n",
      "==============================================================================\n",
      "Omnibus:                    14673.879   Durbin-Watson:                   2.001\n",
      "Prob(Omnibus):                  0.000   Jarque-Bera (JB):           164967.615\n",
      "Skew:                           3.056   Prob(JB):                         0.00\n",
      "Kurtosis:                      14.729   Cond. No.                         3.40\n",
      "==============================================================================\n",
      "\n",
      "Notes:\n",
      "[1] Standard Errors assume that the covariance matrix of the errors is correctly specified.\n"
     ]
    }
   ],
   "source": [
    "X_train, X_test, y_train, y_test = train_test_split(X, y, test_size=0.2, random_state=42)\n",
    "X_train = sm.add_constant(X_train)\n",
    "model = sm.OLS(y_train, X_train)\n",
    "results = model.fit()\n",
    "print(results.summary())"
   ]
  },
  {
   "cell_type": "markdown",
   "id": "57b381af",
   "metadata": {},
   "source": [
    "#### Throws versus salary"
   ]
  },
  {
   "cell_type": "code",
   "execution_count": 24,
   "id": "9c2a9e34",
   "metadata": {},
   "outputs": [],
   "source": [
    "df['throws'] = df['throws'].astype(float)\n",
    "X=df['throws']\n",
    "X = np.array(X).reshape(-1,1)"
   ]
  },
  {
   "cell_type": "code",
   "execution_count": 25,
   "id": "e9ef76bf",
   "metadata": {},
   "outputs": [
    {
     "name": "stdout",
     "output_type": "stream",
     "text": [
      "                            OLS Regression Results                            \n",
      "==============================================================================\n",
      "Dep. Variable:                 salary   R-squared:                       0.000\n",
      "Model:                            OLS   Adj. R-squared:                 -0.000\n",
      "Method:                 Least Squares   F-statistic:                    0.3175\n",
      "Date:                Tue, 09 Jan 2024   Prob (F-statistic):              0.573\n",
      "Time:                        16:54:51   Log-Likelihood:            -3.7281e+05\n",
      "No. Observations:               22634   AIC:                         7.456e+05\n",
      "Df Residuals:                   22632   BIC:                         7.456e+05\n",
      "Df Model:                           1                                         \n",
      "Covariance Type:            nonrobust                                         \n",
      "==============================================================================\n",
      "                 coef    std err          t      P>|t|      [0.025      0.975]\n",
      "------------------------------------------------------------------------------\n",
      "const       2.146e+06   4.94e+04     43.452      0.000    2.05e+06    2.24e+06\n",
      "x1          -3.14e+04   5.57e+04     -0.563      0.573   -1.41e+05    7.78e+04\n",
      "==============================================================================\n",
      "Omnibus:                    14683.711   Durbin-Watson:                   2.001\n",
      "Prob(Omnibus):                  0.000   Jarque-Bera (JB):           165359.266\n",
      "Skew:                           3.058   Prob(JB):                         0.00\n",
      "Kurtosis:                      14.745   Cond. No.                         4.10\n",
      "==============================================================================\n",
      "\n",
      "Notes:\n",
      "[1] Standard Errors assume that the covariance matrix of the errors is correctly specified.\n"
     ]
    }
   ],
   "source": [
    "X_train, X_test, y_train, y_test = train_test_split(X, y, test_size=0.2, random_state=42)\n",
    "X_train = sm.add_constant(X_train)\n",
    "model = sm.OLS(y_train, X_train)\n",
    "results = model.fit()\n",
    "print(results.summary())"
   ]
  },
  {
   "cell_type": "markdown",
   "id": "8e6d6ba3",
   "metadata": {},
   "source": []
  },
  {
   "cell_type": "code",
   "execution_count": 26,
   "id": "7e21c876",
   "metadata": {},
   "outputs": [],
   "source": [
    "h = df['height']\n",
    "w = df['weight']\n",
    "ratio = h/w\n",
    "X = np.array(ratio).reshape(-1,1)"
   ]
  },
  {
   "cell_type": "code",
   "execution_count": 27,
   "id": "0bffb420",
   "metadata": {},
   "outputs": [
    {
     "name": "stdout",
     "output_type": "stream",
     "text": [
      "                            OLS Regression Results                            \n",
      "==============================================================================\n",
      "Dep. Variable:                 salary   R-squared:                       0.039\n",
      "Model:                            OLS   Adj. R-squared:                  0.039\n",
      "Method:                 Least Squares   F-statistic:                     914.5\n",
      "Date:                Tue, 09 Jan 2024   Prob (F-statistic):          5.71e-197\n",
      "Time:                        16:54:51   Log-Likelihood:            -3.7236e+05\n",
      "No. Observations:               22634   AIC:                         7.447e+05\n",
      "Df Residuals:                   22632   BIC:                         7.447e+05\n",
      "Df Model:                           1                                         \n",
      "Covariance Type:            nonrobust                                         \n",
      "==============================================================================\n",
      "                 coef    std err          t      P>|t|      [0.025      0.975]\n",
      "------------------------------------------------------------------------------\n",
      "const       9.102e+06   2.32e+05     39.244      0.000    8.65e+06    9.56e+06\n",
      "x1          -1.87e+07   6.18e+05    -30.241      0.000   -1.99e+07   -1.75e+07\n",
      "==============================================================================\n",
      "Omnibus:                    14030.727   Durbin-Watson:                   2.004\n",
      "Prob(Omnibus):                  0.000   Jarque-Bera (JB):           145911.113\n",
      "Skew:                           2.903   Prob(JB):                         0.00\n",
      "Kurtosis:                      14.000   Cond. No.                         31.4\n",
      "==============================================================================\n",
      "\n",
      "Notes:\n",
      "[1] Standard Errors assume that the covariance matrix of the errors is correctly specified.\n"
     ]
    }
   ],
   "source": [
    "X_train, X_test, y_train, y_test = train_test_split(X, y, test_size=0.2, random_state=42)\n",
    "X_train = sm.add_constant(X_train)\n",
    "model = sm.OLS(y_train, X_train)\n",
    "results = model.fit()\n",
    "print(results.summary())"
   ]
  },
  {
   "cell_type": "markdown",
   "id": "ae93dc3d",
   "metadata": {},
   "source": []
  },
  {
   "cell_type": "code",
   "execution_count": 28,
   "metadata": {},
   "outputs": [
    {
     "name": "stdout",
     "output_type": "stream",
     "text": [
      "Intercept: 9101927.579353815\n",
      "Coefficients: x1   -1.870338e+07\n",
      "dtype: float64\n"
     ]
    },
    {
     "data": {
      "image/png": "[encoded data removed]",
      "text/plain": [
       "<Figure size 640x480 with 1 Axes>"
      ]
     },
     "metadata": {},
     "output_type": "display_data"
    }
   ],
   "source": [
    "intercept = results.params[0]\n",
    "coefficients = results.params[1:]\n",
    "print(\"Intercept:\", intercept)\n",
    "print(\"Coefficients:\", coefficients)\n",
    "\n",
    "plt.scatter(X_test, y_test, label='Actual H/W', color='black',s=1)\n",
    "plt.plot(X_test, y_pred, color='red', label='Regression line')\n",
    "plt.xlabel('Heights vs Weight ratio')\n",
    "plt.ylabel('Salary')\n",
    "plt.title('Weight versus Salary')\n",
    "plt.legend()\n",
    "plt.show()"
   ]
  },
  {
   "cell_type": "markdown",
   "id": "5f06700a",
   "metadata": {},
   "source": [
    "#### Conclusions of Ordinary Linear Regression:"
   ]
  },
  {
   "cell_type": "markdown",
   "id": "1e4d423b",
   "metadata": {},
   "source": [
    "In conclusion, the analysis of the dataset reveals insights into the factors influencing salary of MLB players. The variables 'bats' and 'throws' suggests that the handedness of players does not exhibit a significant correlation with their salaries. Similarly, the variables 'weight' and 'height' appear to be weak predictors of salary, and the linear regression models built on these features do not provide substantial evidence that these predictors are significant in anyway. Surprisingly, among these, 'weight' shows a marginally stronger relationship with salary compared to 'height,' still not substantial. Additionally, exploring the ratio of height to weight did not reveal a strong predictive relationship with salary. In summary, the analysis suggests that individual characteristics such as handedness, physical attributes, and personal demographics might not be decisive factors in predicting baseball player salaries, highlighting the need for a better understanding of the determinants of MLB player compensation."
   ]
  },
  {
   "cell_type": "markdown",
   "id": "73b25f1f",
   "metadata": {},
   "source": []
  }
 ],
 "metadata": {
  "kernelspec": {
   "display_name": "Python 3 (ipykernel)",
   "language": "python",
   "name": "python3"
  },
  "language_info": {
   "codemirror_mode": {
    "name": "ipython",
    "version": 3
   },
   "file_extension": ".py",
   "mimetype": "text/x-python",
   "name": "python",
   "nbconvert_exporter": "python",
   "pygments_lexer": "ipython3",
   "version": "3.9.7"
  }
 },
 "nbformat": 4,
 "nbformat_minor": 5
}
